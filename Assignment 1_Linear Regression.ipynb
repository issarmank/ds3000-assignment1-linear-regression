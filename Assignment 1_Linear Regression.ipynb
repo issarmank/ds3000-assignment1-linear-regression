{
 "cells": [
  {
   "cell_type": "markdown",
   "id": "6c7f1df4",
   "metadata": {},
   "source": [
    "# Grade: 100 points\n",
    "\n",
    "# Assignment 01: Linear Regression\n",
    "\n",
    "## Instructions\n",
    "\n",
    "#### Follow These Steps before submitting your assignment \n",
    "\n",
    "1. Complete the notebook.\n",
    "\n",
    "2. Make sure all plots have axis labels.\n",
    "\n",
    "3. Once the notebook is complete, `Restart` your kernel by clicking 'Kernel' > 'Restart & Run All'.\n",
    "\n",
    "4. Fix any errors until your notebook runs without any problems.\n",
    "\n",
    "5. Submit one completed notebook for the group to OWL by the deadline.\n",
    "\n",
    "6. Please note, a random seed of 42 needs to be set to ensure the reproducability of the results -- *DO NOT* change this random seed. **If you call additional functions that are based on random number generators, you will need to define their seed to 42 as well**. \n",
    "\n",
    "7. Make sure to reference all external code and documentation used.\n"
   ]
  },
  {
   "cell_type": "markdown",
   "id": "3cd59110",
   "metadata": {},
   "source": [
    "# Q1 - Data Loading and Exploration\n",
    "\n",
    "`Dataset_Assignment1.csv` lists the soccer players participated in the 2022 FIFA World Cup. Our ultimate goal is to find the best ML model among three candidates that can best predict a player's monetary \"Value\". The dataset has the following attributes:\n",
    "\n",
    "Age: Player age in years\n",
    "Nationality: Players nationality\n",
    "Overall: Player overall performance score (higher better)\n",
    "Potential: Player potential score (higher better)\n",
    "Club: Player home soccer club\n",
    "Value: Player value i.e, the amount of money a club should pay in order to purchase the player (higher better)\n",
    "Wage: Player stipend (higher better)\n",
    "Preferred Foot: Player preferred foot to play\n",
    "International Reputation: Player international fame (higher better)\n",
    "Week Foot: Performance score of player weak foot (higher better)\n",
    "Skill Moves: Player move skill score (higher better)\n",
    "Body Type: Player body type\n",
    "Position: Position player holds on the pitch\n",
    "Height: Player height in CM\n",
    "Weight: Player weight in kg"
   ]
  },
  {
   "cell_type": "markdown",
   "id": "d192c12c",
   "metadata": {},
   "source": [
    "1. Load the dataset.\n",
    "2. Display basic statistics and inspect for missing data.\n",
    "3. Visualize the distribution of numerical columns.\n",
    "4. **Discussion Question:** Why is it important to explore and visualize the data before building any models? What types of trends or problems could you uncover at this stage?"
   ]
  },
  {
   "cell_type": "code",
   "execution_count": null,
   "id": "9c278db8",
   "metadata": {},
   "outputs": [],
   "source": [
    "# Answer to Q1.1"
   ]
  },
  {
   "cell_type": "code",
   "execution_count": null,
   "id": "be5f42c5",
   "metadata": {},
   "outputs": [],
   "source": [
    "# Answer to Q1.2"
   ]
  },
  {
   "cell_type": "code",
   "execution_count": null,
   "id": "38a6d907",
   "metadata": {},
   "outputs": [],
   "source": [
    "# Answer to Q1.3"
   ]
  },
  {
   "cell_type": "markdown",
   "id": "32f440c6",
   "metadata": {},
   "source": [
    "**Answer to Q1.4**: \n"
   ]
  },
  {
   "cell_type": "markdown",
   "id": "61cda3ed",
   "metadata": {},
   "source": [
    "# Q2 - Feature extraction\n",
    "\n",
    "1. Plot the joint distribution between `Weight` and `Height`.\n",
    "2. The BMI is defined as the body mass divided by the square of the body height, and is expressed in units of kg/m². With this knowledge, see if you can do some meaningful feature extraction and then drop Weight and Height. "
   ]
  },
  {
   "cell_type": "code",
   "execution_count": null,
   "id": "13a8defb",
   "metadata": {},
   "outputs": [],
   "source": [
    "# Answer to Q2.1"
   ]
  },
  {
   "cell_type": "code",
   "execution_count": null,
   "id": "c167e2b9",
   "metadata": {},
   "outputs": [],
   "source": [
    "# Answer to Q2.2"
   ]
  },
  {
   "cell_type": "markdown",
   "id": "2f596e02",
   "metadata": {},
   "source": [
    "# Q3 - Correlation and Feature Selection\n",
    "\n",
    "1. Compute correlation between numerical features.\n",
    "2. Visualize correlations using a heatmap to identify highly correlated features.\n",
    "3. Choose the most correlated feature with the target variable (`Value`) for simple linear regression.\n",
    "4. **Discussion Question:** How do you interpret a correlation value? Does a higher correlation always mean a feature is more important?"
   ]
  },
  {
   "cell_type": "code",
   "execution_count": null,
   "id": "e27e7a81",
   "metadata": {},
   "outputs": [],
   "source": [
    "# Answer to Q3.1"
   ]
  },
  {
   "cell_type": "code",
   "execution_count": null,
   "id": "9f6ee0c5",
   "metadata": {},
   "outputs": [],
   "source": [
    "# Answer to Q3.2"
   ]
  },
  {
   "cell_type": "code",
   "execution_count": null,
   "id": "bf02c994",
   "metadata": {},
   "outputs": [],
   "source": [
    "# Answer to Q3.3"
   ]
  },
  {
   "cell_type": "markdown",
   "id": "ea694490",
   "metadata": {},
   "source": [
    "**# Answer to Q3.4**: "
   ]
  },
  {
   "cell_type": "markdown",
   "id": "7683f65e",
   "metadata": {},
   "source": [
    "# Q4 - Data Normalization & Simple Linear Regression\n",
    "\n",
    "1. Select one highly correlated numerical feature and build a simple linear regression model to predict the target variable.\n",
    "2. Split the data into 80% training and 20% test sets (use the random seed of 42). \n",
    "3. Normalize the dataset.\n",
    "4. Rebuild the simple linear regression model with normalized data.\n",
    "5. Compare the normalized and non-normalized data visually. \n",
    "6. Compare performance of the normalized and non-normalized models visually and using R² and RMSE.\n",
    "7. **Discussion Question:** Why might normalizing data improve model performance? In which situations might normalization not be beneficial?\n",
    "8. Visualize the relationship between the selected feature and the predicted target variable.\n",
    "9. **Discussion Question:** What could cause a simple linear regression model to perform poorly, even if the correlation is high?"
   ]
  },
  {
   "cell_type": "code",
   "execution_count": null,
   "id": "7b0b7002",
   "metadata": {},
   "outputs": [],
   "source": [
    "# Answer to Q4.1"
   ]
  },
  {
   "cell_type": "code",
   "execution_count": null,
   "id": "a8083770",
   "metadata": {},
   "outputs": [],
   "source": [
    "# Answer to Q4.2"
   ]
  },
  {
   "cell_type": "code",
   "execution_count": null,
   "id": "6f6e5822",
   "metadata": {},
   "outputs": [],
   "source": [
    "# Answer to Q4.3"
   ]
  },
  {
   "cell_type": "code",
   "execution_count": null,
   "id": "f76ed480",
   "metadata": {},
   "outputs": [],
   "source": [
    "# Answer to Q4.4"
   ]
  },
  {
   "cell_type": "code",
   "execution_count": null,
   "id": "16551448",
   "metadata": {},
   "outputs": [],
   "source": [
    "# Answer to Q4.5"
   ]
  },
  {
   "cell_type": "code",
   "execution_count": null,
   "id": "1cfaa67a",
   "metadata": {},
   "outputs": [],
   "source": [
    "# Answer to Q4.6"
   ]
  },
  {
   "cell_type": "markdown",
   "id": "5c8eae1e",
   "metadata": {},
   "source": [
    "**# Answer to Q4.7**: \n",
    "\n"
   ]
  },
  {
   "cell_type": "code",
   "execution_count": null,
   "id": "b7cf99b3",
   "metadata": {},
   "outputs": [],
   "source": [
    "# Answer to Q4.8"
   ]
  },
  {
   "cell_type": "markdown",
   "id": "886a2845",
   "metadata": {},
   "source": [
    "**# Answer to Q4.9**: \n"
   ]
  },
  {
   "cell_type": "markdown",
   "id": "3689f657",
   "metadata": {},
   "source": [
    "# Q 5 - Multiple Linear Regression\n",
    "\n",
    "1. Select numerical features with correlation above certain thresholds (e.g., 0.2, 0.4, and 0.6).\n",
    "2. Build three different multiple linear regression models using different sets of features based on correlation thresholds.\n",
    "3. Evaluate and compare these models using R² and RMSE.\n",
    "4. **Discussion Question:** How do we decide which features to include in a multiple linear regression model? What challenges might arise from using too many features?"
   ]
  },
  {
   "cell_type": "code",
   "execution_count": null,
   "id": "d2591cd7",
   "metadata": {},
   "outputs": [],
   "source": [
    "# Answer to Q5.1"
   ]
  },
  {
   "cell_type": "code",
   "execution_count": null,
   "id": "37e55c23",
   "metadata": {},
   "outputs": [],
   "source": [
    "# Answer to Q5.2"
   ]
  },
  {
   "cell_type": "code",
   "execution_count": null,
   "id": "53acab9a",
   "metadata": {},
   "outputs": [],
   "source": [
    "# Answer to Q5.3"
   ]
  },
  {
   "cell_type": "markdown",
   "id": "01ad85d4",
   "metadata": {},
   "source": [
    "**# Answer to Q5.4**: "
   ]
  },
  {
   "cell_type": "markdown",
   "id": "00c9610b",
   "metadata": {},
   "source": [
    "# Q6 - Model Evaluation and Comparison\n",
    "\n",
    "1. Compare all models (simple and multiple regression models) by printing there R² and RMSE values.\n",
    "2. **Discussion Question:** Which model performs the best and why?\n",
    "3. **Discussion Question:** If a model has a high R² value but a large RMSE, what might that indicate about the model's performance?\n",
    "4. **Discussion Question:** Discuss next steps or potential improvements to the models."
   ]
  },
  {
   "cell_type": "code",
   "execution_count": null,
   "id": "f46aca0c",
   "metadata": {},
   "outputs": [],
   "source": [
    "print(f\"SLR_model -> R²: {r2_SLR_model_scaled:.4f}, RMSE: {rmse_SLR_model_scaled:.4f}\")\n",
    "print(f\"MLR_model_4features -> R²: {r2_0_2:.4f}, RMSE: {rmse_0_2:.4f}\")\n",
    "print(f\"MLR_model_3features -> R²: {r2_0_4:.4f}, RMSE: {rmse_0_4:.4f}\")\n",
    "print(f\"MLR_model_1features -> R²: {r2_0_6:.4f}, RMSE: {rmse_0_6:.4f}\")"
   ]
  },
  {
   "cell_type": "code",
   "execution_count": null,
   "id": "91edfd6d",
   "metadata": {},
   "outputs": [],
   "source": [
    "# Answer to Q6.1"
   ]
  },
  {
   "cell_type": "markdown",
   "id": "7964b50a",
   "metadata": {},
   "source": [
    "**Answer to Q6.2**: "
   ]
  },
  {
   "cell_type": "markdown",
   "id": "d705dc1b",
   "metadata": {},
   "source": [
    "**Answer to Q6.3**: "
   ]
  },
  {
   "cell_type": "markdown",
   "id": "ead441f9",
   "metadata": {},
   "source": [
    "**Answer to Q6.4**: "
   ]
  },
  {
   "cell_type": "markdown",
   "id": "6316abdb-946c-43f4-ad47-18926d115090",
   "metadata": {},
   "source": [
    "# Q7 - GenAI\n",
    "\n",
    "1. **Discussion Question:** Did you use GenAI and if so, how?\n",
    "2. **Discussion Question:** What limitations did you encounter and how did you overcome them?"
   ]
  },
  {
   "cell_type": "markdown",
   "id": "272c406a",
   "metadata": {},
   "source": [
    "**Answer to Q7.1**: "
   ]
  },
  {
   "cell_type": "markdown",
   "id": "3d82ab05",
   "metadata": {},
   "source": [
    "**Answer to Q7.2**: "
   ]
  }
 ],
 "metadata": {
  "kernelspec": {
   "display_name": "DS3000env",
   "language": "python",
   "name": "python3"
  },
  "language_info": {
   "codemirror_mode": {
    "name": "ipython",
    "version": 3
   },
   "file_extension": ".py",
   "mimetype": "text/x-python",
   "name": "python",
   "nbconvert_exporter": "python",
   "pygments_lexer": "ipython3",
   "version": "3.10.18"
  }
 },
 "nbformat": 4,
 "nbformat_minor": 5
}
